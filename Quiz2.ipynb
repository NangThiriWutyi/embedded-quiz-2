{
  "nbformat": 4,
  "nbformat_minor": 0,
  "metadata": {
    "colab": {
      "provenance": []
    },
    "kernelspec": {
      "name": "python3",
      "display_name": "Python 3"
    },
    "language_info": {
      "name": "python"
    }
  },
  "cells": [
    {
      "cell_type": "code",
      "execution_count": null,
      "metadata": {
        "id": "1QjukgjMlqCD"
      },
      "outputs": [],
      "source": []
    },
    {
      "cell_type": "code",
      "source": [
        "%cd /content\n",
        "%cd drive/MyDrive/Colab Notebooks\n",
        "%pwd\n",
        ""
      ],
      "metadata": {
        "colab": {
          "base_uri": "https://localhost:8080/",
          "height": 70
        },
        "id": "-R4-VgJAmFC7",
        "outputId": "7113e612-20cc-42e2-d0d2-f90f2357614c"
      },
      "execution_count": 1,
      "outputs": [
        {
          "output_type": "stream",
          "name": "stdout",
          "text": [
            "/content\n",
            "/content/drive/MyDrive/Colab Notebooks\n"
          ]
        },
        {
          "output_type": "execute_result",
          "data": {
            "text/plain": [
              "'/content/drive/MyDrive/Colab Notebooks'"
            ],
            "application/vnd.google.colaboratory.intrinsic+json": {
              "type": "string"
            }
          },
          "metadata": {},
          "execution_count": 1
        }
      ]
    },
    {
      "cell_type": "code",
      "source": [
        "def decode(message_file):\n",
        "    # Initialize an empty dictionary to store positions and words\n",
        "    decoded_dict = {}\n",
        "\n",
        "    # Open the message file in read mode\n",
        "    with open(message_file, 'r') as file:\n",
        "        # Read each line from the file\n",
        "        for line in file:\n",
        "            # Split the line at the first colon\n",
        "            position, word = line.strip().split(':', 1)  # Splitting only at the first colon\n",
        "            # Convert position to integer and strip any leading/trailing whitespace from word\n",
        "            decoded_dict[int(position)] = word.strip()\n",
        "\n",
        "    # Sort the decoded dictionary based on position\n",
        "    sorted_decoded = sorted(decoded_dict.items())\n",
        "\n",
        "    # Format the sorted dictionary into a human-readable message\n",
        "    formatted_message = '\\n'.join([f\"{position}: {word}\" for position, word in sorted_decoded])\n",
        "\n",
        "    # Return the formatted message\n",
        "    return formatted_message\n",
        "\n",
        "# Example usage of the decode function with a file named \"encoded_message.txt\"\n",
        "print(decode(\"encoded_message.txt\"))\n"
      ],
      "metadata": {
        "colab": {
          "base_uri": "https://localhost:8080/"
        },
        "id": "dJs0zmNd2zwJ",
        "outputId": "ac243e52-a8d9-4781-d8fe-e6d72b108087"
      },
      "execution_count": 44,
      "outputs": [
        {
          "output_type": "stream",
          "name": "stdout",
          "text": [
            "1: I\n",
            "2: love\n",
            "4: computers\n"
          ]
        }
      ]
    }
  ]
}